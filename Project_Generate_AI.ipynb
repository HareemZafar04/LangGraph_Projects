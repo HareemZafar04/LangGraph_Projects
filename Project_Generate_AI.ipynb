{
  "nbformat": 4,
  "nbformat_minor": 0,
  "metadata": {
    "colab": {
      "provenance": []
    },
    "kernelspec": {
      "name": "python3",
      "display_name": "Python 3"
    },
    "language_info": {
      "name": "python"
    }
  },
  "cells": [
    {
      "cell_type": "code",
      "execution_count": 48,
      "metadata": {
        "colab": {
          "base_uri": "https://localhost:8080/"
        },
        "id": "NW8quRJHbiaa",
        "outputId": "a3c4e493-c536-4d5b-eb8d-904e8cf973e7"
      },
      "outputs": [
        {
          "output_type": "stream",
          "name": "stdout",
          "text": [
            "Requirement already satisfied: langgraph in /usr/local/lib/python3.11/dist-packages (0.2.72)\n",
            "Requirement already satisfied: langgraph-sdk in /usr/local/lib/python3.11/dist-packages (0.1.51)\n",
            "Requirement already satisfied: langgraph-checkpoint-sqlite in /usr/local/lib/python3.11/dist-packages (2.0.4)\n",
            "Requirement already satisfied: langsmith in /usr/local/lib/python3.11/dist-packages (0.3.6)\n",
            "Requirement already satisfied: langchain-community in /usr/local/lib/python3.11/dist-packages (0.3.17)\n",
            "Requirement already satisfied: langchain-core in /usr/local/lib/python3.11/dist-packages (0.3.35)\n",
            "Requirement already satisfied: langchain-openai in /usr/local/lib/python3.11/dist-packages (0.3.5)\n",
            "Requirement already satisfied: tavily-python in /usr/local/lib/python3.11/dist-packages (0.5.1)\n",
            "Requirement already satisfied: wikipedia in /usr/local/lib/python3.11/dist-packages (1.4.0)\n",
            "Requirement already satisfied: google-generativeai in /usr/local/lib/python3.11/dist-packages (0.8.4)\n",
            "Requirement already satisfied: langgraph-checkpoint<3.0.0,>=2.0.10 in /usr/local/lib/python3.11/dist-packages (from langgraph) (2.0.13)\n",
            "Requirement already satisfied: httpx>=0.25.2 in /usr/local/lib/python3.11/dist-packages (from langgraph-sdk) (0.28.1)\n",
            "Requirement already satisfied: orjson>=3.10.1 in /usr/local/lib/python3.11/dist-packages (from langgraph-sdk) (3.10.15)\n",
            "Requirement already satisfied: aiosqlite<0.21.0,>=0.20.0 in /usr/local/lib/python3.11/dist-packages (from langgraph-checkpoint-sqlite) (0.20.0)\n",
            "Requirement already satisfied: pydantic<3,>=1 in /usr/local/lib/python3.11/dist-packages (from langsmith) (2.10.6)\n",
            "Requirement already satisfied: requests<3,>=2 in /usr/local/lib/python3.11/dist-packages (from langsmith) (2.32.3)\n",
            "Requirement already satisfied: requests-toolbelt<2.0.0,>=1.0.0 in /usr/local/lib/python3.11/dist-packages (from langsmith) (1.0.0)\n",
            "Requirement already satisfied: zstandard<0.24.0,>=0.23.0 in /usr/local/lib/python3.11/dist-packages (from langsmith) (0.23.0)\n",
            "Requirement already satisfied: langchain<1.0.0,>=0.3.18 in /usr/local/lib/python3.11/dist-packages (from langchain-community) (0.3.18)\n",
            "Requirement already satisfied: SQLAlchemy<3,>=1.4 in /usr/local/lib/python3.11/dist-packages (from langchain-community) (2.0.37)\n",
            "Requirement already satisfied: PyYAML>=5.3 in /usr/local/lib/python3.11/dist-packages (from langchain-community) (6.0.2)\n",
            "Requirement already satisfied: aiohttp<4.0.0,>=3.8.3 in /usr/local/lib/python3.11/dist-packages (from langchain-community) (3.11.12)\n",
            "Requirement already satisfied: tenacity!=8.4.0,<10,>=8.1.0 in /usr/local/lib/python3.11/dist-packages (from langchain-community) (9.0.0)\n",
            "Requirement already satisfied: dataclasses-json<0.7,>=0.5.7 in /usr/local/lib/python3.11/dist-packages (from langchain-community) (0.6.7)\n",
            "Requirement already satisfied: pydantic-settings<3.0.0,>=2.4.0 in /usr/local/lib/python3.11/dist-packages (from langchain-community) (2.7.1)\n",
            "Requirement already satisfied: httpx-sse<1.0.0,>=0.4.0 in /usr/local/lib/python3.11/dist-packages (from langchain-community) (0.4.0)\n",
            "Requirement already satisfied: numpy<2,>=1.26.4 in /usr/local/lib/python3.11/dist-packages (from langchain-community) (1.26.4)\n",
            "Requirement already satisfied: jsonpatch<2.0,>=1.33 in /usr/local/lib/python3.11/dist-packages (from langchain-core) (1.33)\n",
            "Requirement already satisfied: packaging<25,>=23.2 in /usr/local/lib/python3.11/dist-packages (from langchain-core) (24.2)\n",
            "Requirement already satisfied: typing-extensions>=4.7 in /usr/local/lib/python3.11/dist-packages (from langchain-core) (4.12.2)\n",
            "Requirement already satisfied: openai<2.0.0,>=1.58.1 in /usr/local/lib/python3.11/dist-packages (from langchain-openai) (1.61.1)\n",
            "Requirement already satisfied: tiktoken<1,>=0.7 in /usr/local/lib/python3.11/dist-packages (from langchain-openai) (0.9.0)\n",
            "Requirement already satisfied: beautifulsoup4 in /usr/local/lib/python3.11/dist-packages (from wikipedia) (4.13.3)\n",
            "Requirement already satisfied: google-ai-generativelanguage==0.6.15 in /usr/local/lib/python3.11/dist-packages (from google-generativeai) (0.6.15)\n",
            "Requirement already satisfied: google-api-core in /usr/local/lib/python3.11/dist-packages (from google-generativeai) (2.19.2)\n",
            "Requirement already satisfied: google-api-python-client in /usr/local/lib/python3.11/dist-packages (from google-generativeai) (2.160.0)\n",
            "Requirement already satisfied: google-auth>=2.15.0 in /usr/local/lib/python3.11/dist-packages (from google-generativeai) (2.27.0)\n",
            "Requirement already satisfied: protobuf in /usr/local/lib/python3.11/dist-packages (from google-generativeai) (4.25.6)\n",
            "Requirement already satisfied: tqdm in /usr/local/lib/python3.11/dist-packages (from google-generativeai) (4.67.1)\n",
            "Requirement already satisfied: proto-plus<2.0.0dev,>=1.22.3 in /usr/local/lib/python3.11/dist-packages (from google-ai-generativelanguage==0.6.15->google-generativeai) (1.26.0)\n",
            "Requirement already satisfied: aiohappyeyeballs>=2.3.0 in /usr/local/lib/python3.11/dist-packages (from aiohttp<4.0.0,>=3.8.3->langchain-community) (2.4.4)\n",
            "Requirement already satisfied: aiosignal>=1.1.2 in /usr/local/lib/python3.11/dist-packages (from aiohttp<4.0.0,>=3.8.3->langchain-community) (1.3.2)\n",
            "Requirement already satisfied: attrs>=17.3.0 in /usr/local/lib/python3.11/dist-packages (from aiohttp<4.0.0,>=3.8.3->langchain-community) (25.1.0)\n",
            "Requirement already satisfied: frozenlist>=1.1.1 in /usr/local/lib/python3.11/dist-packages (from aiohttp<4.0.0,>=3.8.3->langchain-community) (1.5.0)\n",
            "Requirement already satisfied: multidict<7.0,>=4.5 in /usr/local/lib/python3.11/dist-packages (from aiohttp<4.0.0,>=3.8.3->langchain-community) (6.1.0)\n",
            "Requirement already satisfied: propcache>=0.2.0 in /usr/local/lib/python3.11/dist-packages (from aiohttp<4.0.0,>=3.8.3->langchain-community) (0.2.1)\n",
            "Requirement already satisfied: yarl<2.0,>=1.17.0 in /usr/local/lib/python3.11/dist-packages (from aiohttp<4.0.0,>=3.8.3->langchain-community) (1.18.3)\n",
            "Requirement already satisfied: marshmallow<4.0.0,>=3.18.0 in /usr/local/lib/python3.11/dist-packages (from dataclasses-json<0.7,>=0.5.7->langchain-community) (3.26.1)\n",
            "Requirement already satisfied: typing-inspect<1,>=0.4.0 in /usr/local/lib/python3.11/dist-packages (from dataclasses-json<0.7,>=0.5.7->langchain-community) (0.9.0)\n",
            "Requirement already satisfied: googleapis-common-protos<2.0.dev0,>=1.56.2 in /usr/local/lib/python3.11/dist-packages (from google-api-core->google-generativeai) (1.66.0)\n",
            "Requirement already satisfied: cachetools<6.0,>=2.0.0 in /usr/local/lib/python3.11/dist-packages (from google-auth>=2.15.0->google-generativeai) (5.5.1)\n",
            "Requirement already satisfied: pyasn1-modules>=0.2.1 in /usr/local/lib/python3.11/dist-packages (from google-auth>=2.15.0->google-generativeai) (0.4.1)\n",
            "Requirement already satisfied: rsa<5,>=3.1.4 in /usr/local/lib/python3.11/dist-packages (from google-auth>=2.15.0->google-generativeai) (4.9)\n",
            "Requirement already satisfied: anyio in /usr/local/lib/python3.11/dist-packages (from httpx>=0.25.2->langgraph-sdk) (3.7.1)\n",
            "Requirement already satisfied: certifi in /usr/local/lib/python3.11/dist-packages (from httpx>=0.25.2->langgraph-sdk) (2025.1.31)\n",
            "Requirement already satisfied: httpcore==1.* in /usr/local/lib/python3.11/dist-packages (from httpx>=0.25.2->langgraph-sdk) (1.0.7)\n",
            "Requirement already satisfied: idna in /usr/local/lib/python3.11/dist-packages (from httpx>=0.25.2->langgraph-sdk) (3.10)\n",
            "Requirement already satisfied: h11<0.15,>=0.13 in /usr/local/lib/python3.11/dist-packages (from httpcore==1.*->httpx>=0.25.2->langgraph-sdk) (0.14.0)\n",
            "Requirement already satisfied: jsonpointer>=1.9 in /usr/local/lib/python3.11/dist-packages (from jsonpatch<2.0,>=1.33->langchain-core) (3.0.0)\n",
            "Requirement already satisfied: langchain-text-splitters<1.0.0,>=0.3.6 in /usr/local/lib/python3.11/dist-packages (from langchain<1.0.0,>=0.3.18->langchain-community) (0.3.6)\n",
            "Requirement already satisfied: msgpack<2.0.0,>=1.1.0 in /usr/local/lib/python3.11/dist-packages (from langgraph-checkpoint<3.0.0,>=2.0.10->langgraph) (1.1.0)\n",
            "Requirement already satisfied: distro<2,>=1.7.0 in /usr/local/lib/python3.11/dist-packages (from openai<2.0.0,>=1.58.1->langchain-openai) (1.9.0)\n",
            "Requirement already satisfied: jiter<1,>=0.4.0 in /usr/local/lib/python3.11/dist-packages (from openai<2.0.0,>=1.58.1->langchain-openai) (0.8.2)\n",
            "Requirement already satisfied: sniffio in /usr/local/lib/python3.11/dist-packages (from openai<2.0.0,>=1.58.1->langchain-openai) (1.3.1)\n",
            "Requirement already satisfied: annotated-types>=0.6.0 in /usr/local/lib/python3.11/dist-packages (from pydantic<3,>=1->langsmith) (0.7.0)\n",
            "Requirement already satisfied: pydantic-core==2.27.2 in /usr/local/lib/python3.11/dist-packages (from pydantic<3,>=1->langsmith) (2.27.2)\n",
            "Requirement already satisfied: python-dotenv>=0.21.0 in /usr/local/lib/python3.11/dist-packages (from pydantic-settings<3.0.0,>=2.4.0->langchain-community) (1.0.1)\n",
            "Requirement already satisfied: charset-normalizer<4,>=2 in /usr/local/lib/python3.11/dist-packages (from requests<3,>=2->langsmith) (3.4.1)\n",
            "Requirement already satisfied: urllib3<3,>=1.21.1 in /usr/local/lib/python3.11/dist-packages (from requests<3,>=2->langsmith) (2.3.0)\n",
            "Requirement already satisfied: greenlet!=0.4.17 in /usr/local/lib/python3.11/dist-packages (from SQLAlchemy<3,>=1.4->langchain-community) (3.1.1)\n",
            "Requirement already satisfied: regex>=2022.1.18 in /usr/local/lib/python3.11/dist-packages (from tiktoken<1,>=0.7->langchain-openai) (2024.11.6)\n",
            "Requirement already satisfied: soupsieve>1.2 in /usr/local/lib/python3.11/dist-packages (from beautifulsoup4->wikipedia) (2.6)\n",
            "Requirement already satisfied: httplib2<1.dev0,>=0.19.0 in /usr/local/lib/python3.11/dist-packages (from google-api-python-client->google-generativeai) (0.22.0)\n",
            "Requirement already satisfied: google-auth-httplib2<1.0.0,>=0.2.0 in /usr/local/lib/python3.11/dist-packages (from google-api-python-client->google-generativeai) (0.2.0)\n",
            "Requirement already satisfied: uritemplate<5,>=3.0.1 in /usr/local/lib/python3.11/dist-packages (from google-api-python-client->google-generativeai) (4.1.1)\n",
            "Requirement already satisfied: grpcio<2.0dev,>=1.33.2 in /usr/local/lib/python3.11/dist-packages (from google-api-core[grpc]!=2.0.*,!=2.1.*,!=2.10.*,!=2.2.*,!=2.3.*,!=2.4.*,!=2.5.*,!=2.6.*,!=2.7.*,!=2.8.*,!=2.9.*,<3.0.0dev,>=1.34.1->google-ai-generativelanguage==0.6.15->google-generativeai) (1.70.0)\n",
            "Requirement already satisfied: grpcio-status<2.0.dev0,>=1.33.2 in /usr/local/lib/python3.11/dist-packages (from google-api-core[grpc]!=2.0.*,!=2.1.*,!=2.10.*,!=2.2.*,!=2.3.*,!=2.4.*,!=2.5.*,!=2.6.*,!=2.7.*,!=2.8.*,!=2.9.*,<3.0.0dev,>=1.34.1->google-ai-generativelanguage==0.6.15->google-generativeai) (1.62.3)\n",
            "Requirement already satisfied: pyparsing!=3.0.0,!=3.0.1,!=3.0.2,!=3.0.3,<4,>=2.4.2 in /usr/local/lib/python3.11/dist-packages (from httplib2<1.dev0,>=0.19.0->google-api-python-client->google-generativeai) (3.2.1)\n",
            "Requirement already satisfied: pyasn1<0.7.0,>=0.4.6 in /usr/local/lib/python3.11/dist-packages (from pyasn1-modules>=0.2.1->google-auth>=2.15.0->google-generativeai) (0.6.1)\n",
            "Requirement already satisfied: mypy-extensions>=0.3.0 in /usr/local/lib/python3.11/dist-packages (from typing-inspect<1,>=0.4.0->dataclasses-json<0.7,>=0.5.7->langchain-community) (1.0.0)\n"
          ]
        }
      ],
      "source": [
        "!pip install langgraph langgraph-sdk langgraph-checkpoint-sqlite langsmith langchain-community langchain-core langchain-openai tavily-python wikipedia google-generativeai"
      ]
    },
    {
      "cell_type": "code",
      "source": [
        "\n",
        "import os\n",
        "import operator\n",
        "from datetime import datetime\n",
        "from typing import Any, Annotated, List\n",
        "from typing_extensions import TypedDict\n",
        "from pydantic import BaseModel, Field\n",
        "\n",
        "from google.colab import userdata\n",
        "from IPython.display import Image, display, Markdown"
      ],
      "metadata": {
        "id": "lplWXNrmc5Pc"
      },
      "execution_count": 49,
      "outputs": []
    },
    {
      "cell_type": "code",
      "source": [
        "\n",
        "from langchain_core.tools import tool\n",
        "from langchain_core.documents import Document\n",
        "from langchain_community.document_loaders import WikipediaLoader\n",
        "from langchain_community.tools.tavily_search import TavilySearchResults\n",
        "from langchain_core.utils.function_calling import convert_to_openai_function\n",
        "from langchain.output_parsers.openai_functions import JsonOutputFunctionsParser\n",
        "from langchain_core.messages import HumanMessage, SystemMessage, AIMessage, ToolMessage, get_buffer_string\n",
        "\n",
        "from langgraph.constants import Send\n",
        "from langgraph.graph import MessagesState\n",
        "from langgraph.graph import StateGraph, START, END\n",
        "from langgraph.checkpoint.memory import MemorySaver\n",
        "from langgraph.prebuilt import ToolNode, tools_condition\n",
        "\n",
        "\n",
        "import google.generativeai as genai"
      ],
      "metadata": {
        "id": "HREvh9p0kAlZ"
      },
      "execution_count": 50,
      "outputs": []
    },
    {
      "cell_type": "code",
      "source": [
        "import os\n",
        "openai_api_key = userdata.get('OPENAI_API_KEY')\n",
        "os.environ[\"OPENAI_API_KEY\"] = openai_api_key\n",
        "os.environ[\"OPENAI_API_KEY\"] = userdata.get('OPENAI_API_KEY')\n",
        "os.environ[\"TAVILY_API_KEY\"] = userdata.get('TAVILY_API_KEY')"
      ],
      "metadata": {
        "id": "aalKHf9rkLxL"
      },
      "execution_count": 61,
      "outputs": []
    },
    {
      "cell_type": "code",
      "source": [
        "genai.configure(api_key=userdata.get('gemini_api_key'))\n",
        "os.environ[\"TAVILY_API_KEY\"] = userdata.get('TAVILY_API_KEY')"
      ],
      "metadata": {
        "id": "Ak_vUK87kRyl"
      },
      "execution_count": 62,
      "outputs": []
    },
    {
      "cell_type": "code",
      "source": [
        "#LangSmith\n",
        "os.environ[\"LANGCHAIN_API_KEY\"] = userdata.get('LANGCHAIN_API_KEY')\n",
        "os.environ[\"LANGCHAIN_TRACING_V2\"] = \"true\"\n",
        "os.environ[\"LANGCHAIN_PROJECT\"] = \"Subgraphs\""
      ],
      "metadata": {
        "id": "ZYTaVvNXkdna"
      },
      "execution_count": 63,
      "outputs": []
    },
    {
      "cell_type": "markdown",
      "source": [
        "# Get models"
      ],
      "metadata": {
        "id": "ZqiTYYMnk7eL"
      }
    },
    {
      "cell_type": "code",
      "source": [
        "from langchain_openai import ChatOpenAI\n",
        "\n",
        "def get_model(model: str = \"gpt-4o-mini\", temp: float = 0.1, max_tokens: int = 100):\n",
        "    \"\"\"Get model from OpenAI\"\"\"\n",
        "    model = ChatOpenAI(\n",
        "        model_name=model,\n",
        "        temperature=temp,\n",
        "        max_tokens=max_tokens,\n",
        "    )\n",
        "    return model"
      ],
      "metadata": {
        "id": "x3ISBYjck0HP"
      },
      "execution_count": 64,
      "outputs": []
    },
    {
      "cell_type": "code",
      "source": [
        "# Create the model Google Gemini\n",
        "generation_config = {\n",
        "  \"temperature\": 0.21,\n",
        "  \"top_p\": 0.95,\n",
        "  \"top_k\": 64,\n",
        "  \"max_output_tokens\": 5000,\n",
        "  \"response_mime_type\": \"text/plain\",\n",
        "}\n",
        "\n",
        "model = genai.GenerativeModel(\n",
        "  model_name=\"gemini-1.5-flash\",\n",
        "  generation_config=generation_config,\n",
        ")\n",
        "podcast_model = model.start_chat()"
      ],
      "metadata": {
        "id": "kbYQGUINlEwI"
      },
      "execution_count": 65,
      "outputs": []
    },
    {
      "cell_type": "markdown",
      "source": [
        "# Graphs"
      ],
      "metadata": {
        "id": "HKprsVlVlPqs"
      }
    },
    {
      "cell_type": "markdown",
      "source": [
        "Build Sub-graphs"
      ],
      "metadata": {
        "id": "Lfu1hFnvlUN1"
      }
    },
    {
      "cell_type": "code",
      "source": [
        "class Planning(TypedDict):\n",
        "  topic:str\n",
        "  keywords: list[str]\n",
        "  subtopics: list[str]"
      ],
      "metadata": {
        "id": "3VvlkqcqlK-F"
      },
      "execution_count": 87,
      "outputs": []
    },
    {
      "cell_type": "code",
      "source": [
        "\n",
        "class keywords(BaseModel):\n",
        "    \"\"\"Answer with at least 5 keywords that you think are related to the topic\"\"\"\n",
        "    keys: list = Field(description=\"list of at least 5 keywords related to the topic\")\n",
        "\n",
        "gpt_keywords = get_model(\"Agent_test\",0.1, 50)\n",
        "model_keywords = gpt_keywords.with_structured_output(keywords)"
      ],
      "metadata": {
        "id": "aoWGmxAVlYKS"
      },
      "execution_count": 88,
      "outputs": []
    },
    {
      "cell_type": "code",
      "source": [
        "class Subtopics(BaseModel):\n",
        "    \"\"\"Answer with at least 5 subtopics related to the topic\"\"\"\n",
        "    subtopics: list = Field(description=\"list of at least 5 subtopics related to the topic\")\n",
        "\n",
        "class Structure(BaseModel):\n",
        "    \"\"\"Structure of the podcast having in account the topic and the keywords\"\"\"\n",
        "    subtopics: list[Subtopics] = Field(description=\"5 subtopics that we will review in the podcast related to the Topic and the Keywords\")\n",
        "\n",
        "gpt_structure = get_model(\"Agent_test\",0.3, 1000)\n",
        "model_structure = gpt_structure.with_structured_output(Structure)"
      ],
      "metadata": {
        "id": "z5JQ8WXLlarf"
      },
      "execution_count": 89,
      "outputs": []
    },
    {
      "cell_type": "code",
      "source": [
        "def get_keywords(state: Planning):\n",
        "  topic = state['topic']\n",
        "  messages = [SystemMessage(content=\"You task is to generate 5 relevant words about the following topic: \" + topic)]\n",
        "  message = model_keywords.invoke(messages)\n",
        "  return {'keywords': message.keys}\n",
        "\n",
        "def get_structure(state: Planning):\n",
        "  topic = state['topic']\n",
        "  keywords = state['keywords']\n",
        "  messages = [SystemMessage(content=\"You task is to generate 5 subtopics to make a podcast about the following topic: \" + topic +\"and the following keywords:\" + \" \".join(keywords))]\n",
        "  message = model_structure.invoke(messages)\n",
        "  return { \"subtopics\": message.subtopics[0].subtopics}\n",
        "\n",
        "plan_builder = StateGraph(Planning)\n",
        "\n",
        "plan_builder.add_node(\"Keywords\", get_keywords)\n",
        "plan_builder.add_node(\"Structure\", get_structure)\n",
        "plan_builder.add_edge(START, \"Keywords\")\n",
        "plan_builder.add_edge(\"Keywords\", \"Structure\")\n",
        "plan_builder.add_edge(\"Structure\", END)\n",
        "\n",
        "graph_plan = plan_builder.compile()\n",
        "\n",
        "# View\n",
        "display(Image(graph_plan.get_graph(xray=1).draw_mermaid_png()))"
      ],
      "metadata": {
        "colab": {
          "base_uri": "https://localhost:8080/",
          "height": 350
        },
        "id": "8KgFKJY8leKK",
        "outputId": "27ba6264-72e3-4d44-9a0b-6b9cd6240200"
      },
      "execution_count": 90,
      "outputs": [
        {
          "output_type": "display_data",
          "data": {
            "image/png": "[encoded data removed]",
            "text/plain": [
              "<IPython.core.display.Image object>"
            ]
          },
          "metadata": {}
        }
      ]
    },
    {
      "cell_type": "markdown",
      "source": [
        "# Conduct podcast"
      ],
      "metadata": {
        "id": "1ZUc5NI5zRou"
      }
    },
    {
      "cell_type": "code",
      "source": [
        "class InterviewState(MessagesState):\n",
        "    topic: str # Topic of the podcast\n",
        "    max_num_turns: int # Number turns of conversation\n",
        "    context: Annotated[list, operator.add] # Source docs\n",
        "    section: str # section transcript\n",
        "    sections: list # Final key we duplicate in outer state for Send() API"
      ],
      "metadata": {
        "id": "HSsIFz9ilkuF"
      },
      "execution_count": 92,
      "outputs": []
    },
    {
      "cell_type": "code",
      "source": [
        "question_instructions = \"\"\"You are the host of a popular podcast and you are tasked with interviewing an expert to learn about a specific topic.\n",
        "\n",
        "Your goal is boil down to interesting and specific insights related to your topic.\n",
        "\n",
        "1. Interesting: Insights that people will find surprising or non-obvious.\n",
        "\n",
        "2. Specific: Insights that avoid generalities and include specific examples from the expert.\n",
        "\n",
        "Here is your topic of focus and set of goals: {topic}\n",
        "        #\n",
        "Begin by introducing the topic that fits your goals, and then ask your question.\n",
        "\n",
        "Continue to ask questions to drill down and refine your understanding of the topic.\n",
        "\n",
        "When you are satisfied with your understanding, complete the interview with: \"Thank you so much for your help\"\n",
        "\n",
        "Remember to stay in character throughout your response\"\"\"\n",
        "\n",
        "def generate_question(state: InterviewState):\n",
        "    \"\"\" Node to generate a question \"\"\"\n",
        "\n",
        "    # Get state\n",
        "    topic = state[\"topic\"]\n",
        "    messages = state[\"messages\"]\n",
        "\n",
        "    # Generate question\n",
        "    system_message = question_instructions.format(topic=topic)\n",
        "    question = podcast_gpt.invoke([SystemMessage(content=system_message)]+messages)\n",
        "\n",
        "    # Write messages to state\n",
        "    return {\"messages\": [question]}\n",
        ""
      ],
      "metadata": {
        "id": "YXWA_E73zWlp"
      },
      "execution_count": 93,
      "outputs": []
    },
    {
      "cell_type": "code",
      "source": [
        "class SearchQuery(BaseModel):\n",
        "    search_query: str = Field(None, description=\"Search query for retrieval.\")\n",
        "\n",
        "podcast_gpt = get_model(max_tokens= 1000)\n",
        "structured_llm = podcast_gpt.with_structured_output(SearchQuery)"
      ],
      "metadata": {
        "id": "rBMNRoWQzhCw"
      },
      "execution_count": 94,
      "outputs": []
    },
    {
      "cell_type": "code",
      "source": [
        "search_instructions = SystemMessage(content=f\"\"\"You will be given a conversation between a host of a popular podcast and an expert.\n",
        "Your goal is to generate a well-structured query for use in retrieval and / or web-search related to the conversation.\n",
        "First, analyze the full conversation.\n",
        "Pay particular attention to the final question posed by the analyst.\n",
        "Convert this final question into a well-structured web search query\"\"\")\n",
        "\n",
        "def search_web(state: InterviewState):\n",
        "    \"\"\" Retrieve docs from web search \"\"\"\n",
        "\n",
        "    # Search query\n",
        "    search_query = structured_llm.invoke([search_instructions]+state['messages'])\n",
        "\n",
        "    # Search\n",
        "    tavily_search = TavilySearchResults(max_results = 3)\n",
        "    search_docs = tavily_search.invoke(search_query.search_query)\n",
        "\n",
        "     # Format\n",
        "    formatted_search_docs = \"\\n\\n---\\n\\n\".join(\n",
        "        [\n",
        "            f'\\n{doc[\"content\"]}\\n'\n",
        "            for doc in search_docs\n",
        "        ]\n",
        "    )\n",
        "\n",
        "    return {\"context\": [formatted_search_docs]}\n",
        "\n",
        "def search_wikipedia(state: InterviewState):\n",
        "    \"\"\" Retrieve docs from wikipedia \"\"\"\n",
        "     # Search query\n",
        "    search_query = structured_llm.invoke([search_instructions]+state['messages'])\n",
        "\n",
        "    # Search\n",
        "    search_docs = WikipediaLoader(query=search_query.search_query,\n",
        "                                  load_max_docs=2).load()\n",
        "\n",
        "     # Format\n",
        "    formatted_search_docs = \"\\n\\n---\\n\\n\".join(\n",
        "        [\n",
        "            f'\\n{doc.page_content}\\n'\n",
        "            for doc in search_docs\n",
        "        ]\n",
        "    )\n",
        "\n",
        "    return {\"context\": [formatted_search_docs]}\n",
        "\n",
        "answer_instructions = \"\"\"You are an expert being interviewed by a popular podcast host.\n",
        "Here is the analyst's focus area: {topic}.\n",
        "Your goal is to answer a question posed by the interviewer.\n",
        "To answer the question, use this context:\n",
        "{context}\n",
        "When answering questions, follow these steps\n",
        "\n",
        "1. Use only the information provided in the context.\n",
        "\n",
        "2. Do not introduce outside information or make assumptions beyond what is explicitly stated in the context.\n",
        "\n",
        "3. The context includes sources on the topic of each document.\n",
        "\n",
        "4. Make it interesting.\"\"\"\n",
        "\n",
        "def generate_answer(state: InterviewState):\n",
        "\n",
        "    \"\"\" Node to answer a question \"\"\"\n",
        "\n",
        "    # Get state\n",
        "    topic = state[\"topic\"]\n",
        "    messages = state[\"messages\"]\n",
        "    context = state[\"context\"]\n",
        "\n",
        "    # Answer question\n",
        "    system_message = answer_instructions.format(topic=topic, context=context)\n",
        "    answer = podcast_gpt.invoke([SystemMessage(content=system_message)]+messages)\n",
        "\n",
        "    # Name the message as coming from the expert\n",
        "    answer.name = \"expert\"\n",
        "\n",
        "    # Append it to state\n",
        "    return {\"messages\": [answer]}\n",
        "\n",
        "def save_podcast(state: InterviewState):\n",
        "\n",
        "    \"\"\" save_podcast \"\"\"\n",
        "\n",
        "    # Get messages\n",
        "    messages = state[\"messages\"]\n",
        "\n",
        "    # Convert interview to a string\n",
        "    interview = get_buffer_string(messages)\n",
        "\n",
        "    # Save to interviews key\n",
        "    return {\"section\": interview}\n",
        "\n",
        "def route_messages(state: InterviewState, name: str=\"expert\"):\n",
        "    \"\"\" Route between question and answer \"\"\"\n",
        "\n",
        "    # Get messages\n",
        "    messages = state[\"messages\"]\n",
        "    max_num_turns = state.get('max_num_turns',2)\n",
        "\n",
        "    # Check the number of expert answers\n",
        "    num_responses = len(\n",
        "        [m for m in messages if isinstance(m, AIMessage) and m.name == name]\n",
        "    )\n",
        "\n",
        "    # End if expert has answered more than the max turns\n",
        "    if num_responses >= max_num_turns:\n",
        "        return 'Save podcast'\n",
        "\n",
        "    # This router is run after each question - answer pair\n",
        "    # Get the last question asked to check if it signals the end of discussion\n",
        "    last_question = messages[-2]\n",
        "\n",
        "    if \"Thank you so much for your help\" in last_question.content:\n",
        "        return 'Save podcast'\n",
        "    return \"Host question\""
      ],
      "metadata": {
        "id": "VTDJMoJpzjwD"
      },
      "execution_count": 95,
      "outputs": []
    },
    {
      "cell_type": "code",
      "source": [
        "section_writer_instructions = \"\"\"You are an expert technical writer.\n",
        "\n",
        "Your task is to create an interesting, easily digestible section of a podcast based on an interview.\n",
        "\n",
        "1. Analyze the content of the interview\n",
        "\n",
        "2. Create a script structure using markdown formatting\n",
        "\n",
        "3. Make your title engaging based upon the focus area of the analyst:\n",
        "{focus}\n",
        "\n",
        "4. For the conversation:\n",
        "- Emphasize what is novel, interesting, or surprising about insights gathered from the interview\n",
        "- Mention turns of \"Interviewer\" and \"Expert\"\n",
        "- Aim for approximately 1000 words maximum\n",
        "\n",
        "5. Final review:\n",
        "- Ensure the report follows the required structure\n",
        "- Include no preamble before the title of the report\n",
        "- Check that all guidelines have been followed\"\"\"\n",
        "\n",
        "def write_section(state: InterviewState):\n",
        "\n",
        "    \"\"\" Node to answer a question \"\"\"\n",
        "\n",
        "    # Get state\n",
        "    section = state[\"section\"]\n",
        "    topic = state[\"topic\"]\n",
        "\n",
        "    system_message = section_writer_instructions.format(focus=topic)\n",
        "    section_res = podcast_model.send_message(system_message + f\"Use this source to write your section: {section}\")\n",
        "\n",
        "    # Append it to state\n",
        "    return {\"sections\": [section_res.text]}"
      ],
      "metadata": {
        "id": "ssVUxtVUzwQY"
      },
      "execution_count": 96,
      "outputs": []
    },
    {
      "cell_type": "code",
      "source": [
        "# Add nodes and edges\n",
        "interview_builder = StateGraph(InterviewState)\n",
        "interview_builder.add_node(\"Host question\", generate_question)\n",
        "interview_builder.add_node(\"Web research\", search_web)\n",
        "interview_builder.add_node(\"Wiki research\", search_wikipedia)\n",
        "interview_builder.add_node(\"Expert answer\", generate_answer)\n",
        "interview_builder.add_node(\"Save podcast\", save_podcast)\n",
        "interview_builder.add_node(\"Write script\", write_section)\n",
        "\n",
        "# Flow\n",
        "interview_builder.add_edge(START, \"Host question\")\n",
        "interview_builder.add_edge(\"Host question\", \"Web research\")\n",
        "interview_builder.add_edge(\"Host question\", \"Wiki research\")\n",
        "interview_builder.add_edge(\"Web research\", \"Expert answer\")\n",
        "interview_builder.add_edge(\"Wiki research\", \"Expert answer\")\n",
        "interview_builder.add_conditional_edges(\"Expert answer\", route_messages,['Host question','Save podcast'])\n",
        "interview_builder.add_edge(\"Save podcast\", \"Write script\")\n",
        "interview_builder.add_edge(\"Write script\", END)\n",
        "\n",
        "# Interview\n",
        "memory = MemorySaver()\n",
        "podcast_graph = interview_builder.compile(checkpointer=memory).with_config(run_name=\"Create podcast\")\n",
        "\n",
        "# View\n",
        "display(Image(podcast_graph.get_graph().draw_mermaid_png()))"
      ],
      "metadata": {
        "colab": {
          "base_uri": "https://localhost:8080/",
          "height": 647
        },
        "id": "LfWbbMplzw5v",
        "outputId": "07437990-46e3-4e28-9e6d-8f6400d7fff9"
      },
      "execution_count": 97,
      "outputs": [
        {
          "output_type": "display_data",
          "data": {
            "image/png": "[encoded data removed]",
            "text/plain": [
              "<IPython.core.display.Image object>"
            ]
          },
          "metadata": {}
        }
      ]
    },
    {
      "cell_type": "code",
      "source": [
        "messages = [HumanMessage(f\"So you said you were writing an article about Attention in human cognition?\")]\n",
        "thread = {\"configurable\": {\"thread_id\": \"1\"}}\n",
        "interview = podcast_graph.invoke({\"topic\": \"The Role of Focus in Perception\", \"messages\": messages, \"max_num_turns\": 2}, thread)\n",
        "Markdown(interview['sections'][0])"
      ],
      "metadata": {
        "id": "HEVI3I9307un"
      },
      "execution_count": null,
      "outputs": []
    },
    {
      "cell_type": "markdown",
      "source": [
        "# The Role of Focus in Perception: How Attention Shapes Our Reality\n",
        "Interviewer: So you said you were writing an article about Attention in human cognition?\n",
        "\n",
        "**Expert:** Absolutely! Attention plays a crucial role in how we perceive the world around us. It’s fascinating how our focus can shape our experiences and even alter our perceptions. To kick things off, could you explain how attention influences what we actually perceive? Are there any surprising examples that illustrate this?\n",
        "\n",
        "**Expert**: Certainly! Attention significantly influences our perception by determining which stimuli we focus on while filtering out others. This selective attention is akin to a spotlight that highlights certain aspects of our environment, allowing us to process them more deeply while ignoring distractions.\n",
        "\n",
        "A classic example is the \"cocktail party effect.\" Imagine you're at a lively party, surrounded by chatter. Despite the noise, you can focus on a conversation with a friend. This ability to hone in on specific sounds while tuning out others showcases how our attention can shape our perception of social interactions.\n",
        "\n",
        "**Interviewer:** That's a great example. So, it seems like our attention is constantly filtering information, but what about the \"bottleneck\" you mentioned?\n",
        "\n",
        "**Expert**: Another intriguing aspect is the concept of a \"bottleneck\" in attention. For instance, if you're listening to someone with a higher-pitched voice, your cognitive resources may become limited, making it harder to process other information simultaneously. This bottleneck illustrates that even when we are focused, our attention has its limits, which can lead to gaps in perception.\n",
        "\n",
        "**Interviewer:** That's fascinating! So, it sounds like our attention not only filters information but also shapes our experiences based on context and past experiences. Can you dive deeper into how this filtering process works? Are there specific mechanisms or theories that explain how our brains decide what to focus on?\n",
        "\n",
        "**Expert:** Absolutely! The filtering process of attention is often explained through several key theories. One prominent model is Broadbent's Filter Theory, which suggests that our cognitive system acts as a bottleneck, allowing only certain information to pass through for further processing. This means that while we receive a vast amount of sensory input, we can only consciously attend to a limited portion at any given time.\n",
        "\n",
        "Interviewer: So, it's like a gatekeeper for our brain, only letting certain information through?\n",
        "\n",
        "**Expert:** Exactly! Another important concept is Treisman's Attenuation Theory, which builds on Broadbent's model. Instead of a strict filter, Treisman proposed that unattended information is not completely blocked but rather attenuated—meaning it is processed at a lower level. This allows for some relevant information, like your name in a crowded room, to break through and capture your attention.\n",
        "\n",
        "**Interviewer:** That makes sense. So, it's not just a complete block, but more of a dimmer switch for certain information?\n",
        "\n",
        "**Expert**: Precisely! Additionally, the concept of selective attention plays a crucial role. It allows us to focus on specific stimuli while ignoring others, which is essential in complex environments. For example, when you're driving, you might concentrate on the road while filtering out distractions like billboards or conversations in the car.\n",
        "\n",
        "**Interviewer:** So, it's like a combination of these theories that helps us navigate the world?\n",
        "\n",
        "**Expert:** Exactly! These mechanisms highlight how our brains prioritize information based on factors such as relevance, familiarity, and context. This prioritization is influenced by our past experiences and cultural background, which can shape what we find noteworthy or important in any given situation. Overall, attention is a dynamic process that not only filters information but also actively shapes our perception of reality."
      ],
      "metadata": {
        "id": "5p-INpRFz9w7"
      }
    },
    {
      "cell_type": "markdown",
      "source": [
        "# Main graph"
      ],
      "metadata": {
        "id": "vqzQdgor1BO1"
      }
    },
    {
      "cell_type": "code",
      "source": [
        "\n",
        "class ResearchGraphState(TypedDict):\n",
        "    topic: Annotated[str, operator.add] # Research topic\n",
        "    keywords: List # Keywords\n",
        "    max_analysts: int # Number of analysts\n",
        "    subtopics: List # Subtopics\n",
        "    sections: Annotated[list, operator.add] # Send() API key\n",
        "    introduction: str # Introduction for the final report\n",
        "    content: str # Content for the final report\n",
        "    conclusion: str # Conclusion for the final report\n",
        "    final_report: str # Final report"
      ],
      "metadata": {
        "id": "Qh9sQEigz3ci"
      },
      "execution_count": 99,
      "outputs": []
    },
    {
      "cell_type": "code",
      "source": [
        "report_writer_instructions = \"\"\"You are a podcast script writer preparing a script for an episode on this overall topic:\n",
        "\n",
        "{topic}\n",
        "\n",
        "You have a dedicated researcher who has delved deep into various subtopics related to the main theme.\n",
        "Your task:\n",
        "\n",
        "1. You will be given a collection of part of script podcast from the researcher, each covering a different subtopic.\n",
        "2. Carefully analyze the insights from each script.\n",
        "3. Consolidate these into a crisp and engaging narrative that ties together the central ideas from all of the script, suitable for a podcast audience.\n",
        "4. Weave the central points of each script into a cohesive and compelling story, ensuring a natural flow and smooth transitions between segments, creating a unified and insightful exploration of the overall topic.\n",
        "\n",
        "To format your script:\n",
        "\n",
        "1. Use markdown formatting.\n",
        "2. Write in a conversational and engaging tone suitable for a podcast.\n",
        "3. Seamlessly integrate the insights from each script into the narrative, using clear and concise language.\n",
        "4. Use transitional phrases and signposting to guide the listener through the different subtopics.\n",
        "\n",
        "Here are the scripts from the researcher to build your podcast script from:\n",
        "\n",
        "{context}\"\"\""
      ],
      "metadata": {
        "id": "OOo_7g0I1E6k"
      },
      "execution_count": 100,
      "outputs": []
    },
    {
      "cell_type": "code",
      "source": [
        "intro_instructions = \"\"\"You are a podcast producer crafting a captivating introduction for an upcoming episode on {topic}.\n",
        "You will be given an outline of the episode's main segments.\n",
        "Your job is to write a compelling and engaging introduction that hooks the listener and sets the stage for the discussion.\n",
        "Include no unnecessary preamble or fluff.\n",
        "Target around 300 words, using vivid language and intriguing questions to pique the listener's curiosity and preview the key themes and topics covered in the episode.\n",
        "Use markdown formatting.\n",
        "Create a catchy and relevant title for the episode and use the # header for the title.\n",
        "Use ## Introduction as the section header for your introduction.\n",
        "Here are the segments to draw upon for crafting your introduction: {formatted_str_sections}\"\"\""
      ],
      "metadata": {
        "id": "idmS7U1W1IBA"
      },
      "execution_count": 101,
      "outputs": []
    },
    {
      "cell_type": "code",
      "source": [
        "conclusion_instructions = \"\"\"You are a podcast producer crafting a memorable conclusion for an episode on {topic}.\n",
        "You will be given an outline of the episode's main segments.\n",
        "Your job is to write a concise and impactful conclusion that summarizes the key takeaways and leaves a lasting impression on the listener.\n",
        "Include no unnecessary preamble or fluff.\n",
        "Target around 200 words, highlighting the most important insights and offering a thought-provoking closing statement that encourages further reflection or action.\n",
        "Use markdown formatting.\n",
        "Use ## Conclusion as the section header for your conclusion.\n",
        "Here are the segments to draw upon for crafting your conclusion: {formatted_str_sections}\"\"\""
      ],
      "metadata": {
        "id": "w3V1GFRj1KQk"
      },
      "execution_count": 102,
      "outputs": []
    },
    {
      "cell_type": "code",
      "source": [
        "# Main graph\n",
        "def initiate_all_interviews(state: ResearchGraphState):\n",
        "    \"\"\" This is the \"map\" step where we run each interview sub-graph using Send API \"\"\"\n",
        "\n",
        "    topic = state[\"topic\"]\n",
        "    return [Send(\"Create podcast\", {\"topic\": topic,\n",
        "                                        \"messages\": [HumanMessage(\n",
        "                                            content=f\"So you said you were researching about {subtopic}?\"\n",
        "                                        )\n",
        "                                                    ]}) for subtopic in state[\"subtopics\"]]\n",
        "\n",
        "def write_report(state: ResearchGraphState):\n",
        "    # Full set of sections\n",
        "    sections = state[\"sections\"]\n",
        "    topic = state[\"topic\"]\n",
        "\n",
        "    # Concat all sections together\n",
        "    formatted_str_sections = \"\\n\\n\".join([f\"{section}\" for section in sections])\n",
        "\n",
        "    # Summarize the sections into a final report\n",
        "    system_message = report_writer_instructions.format(topic=topic, context=formatted_str_sections)\n",
        "    report = podcast_model.send_message(system_message)\n",
        "    return {\"content\": report.text}\n",
        "\n",
        "def write_introduction(state: ResearchGraphState):\n",
        "    # Full set of sections\n",
        "    sections = state[\"sections\"]\n",
        "    topic = state[\"topic\"]\n",
        "\n",
        "    # Concat all sections together\n",
        "    formatted_str_sections = \"\\n\\n\".join([f\"{section}\" for section in sections])\n",
        "\n",
        "    # Summarize the sections into a final report\n",
        "\n",
        "    instructions = intro_instructions.format(topic=topic, formatted_str_sections=formatted_str_sections)\n",
        "    intro = podcast_model.send_message(instructions)\n",
        "    return {\"introduction\": intro.text}\n",
        "\n",
        "def write_conclusion(state: ResearchGraphState):\n",
        "    # Full set of sections\n",
        "    sections = state[\"sections\"]\n",
        "    topic = state[\"topic\"]\n",
        "\n",
        "    # Concat all sections together\n",
        "    formatted_str_sections = \"\\n\\n\".join([f\"{section}\" for section in sections])\n",
        "\n",
        "    # Summarize the sections into a final report\n",
        "\n",
        "    instructions = conclusion_instructions.format(topic=topic, formatted_str_sections=formatted_str_sections)\n",
        "    conclusion = podcast_model.send_message(instructions)\n",
        "    return {\"conclusion\": conclusion.text}\n",
        "\n",
        "def finalize_report(state: ResearchGraphState):\n",
        "    \"\"\" The is the \"reduce\" step where we gather all the sections, combine them, and reflect on them to write the intro/conclusion \"\"\"\n",
        "    # Save full final report\n",
        "    content = state[\"content\"]\n",
        "    final_report = state[\"introduction\"] + \"\\n\\n---\\n\\n\" + content + \"\\n\\n---\\n\\n\" + state[\"conclusion\"]\n",
        "\n",
        "    return {\"final_report\": final_report}\n",
        "\n",
        "def Start_parallel(state):\n",
        "    \"\"\" No-op node that should be interrupted on \"\"\"\n",
        "    pass"
      ],
      "metadata": {
        "id": "zNqGkMRb1Mrf"
      },
      "execution_count": 103,
      "outputs": []
    },
    {
      "cell_type": "code",
      "source": [
        "# Add nodes and edges\n",
        "builder = StateGraph(ResearchGraphState)\n",
        "builder.add_node(\"Planing\", plan_builder.compile())\n",
        "builder.add_node(\"Start research\", Start_parallel)\n",
        "builder.add_node(\"Create podcast\", interview_builder.compile())\n",
        "builder.add_node(\"Write report\",write_report)\n",
        "builder.add_node(\"Write introduction\",write_introduction)\n",
        "builder.add_node(\"Write conclusion\",write_conclusion)\n",
        "builder.add_node(\"Finalize podcast\",finalize_report)\n",
        "\n",
        "# Logic\n",
        "builder.add_edge(START, \"Planing\")\n",
        "builder.add_edge(\"Planing\", \"Start research\")\n",
        "builder.add_conditional_edges(\"Start research\", initiate_all_interviews, [\"Planing\", \"Create podcast\"])\n",
        "builder.add_edge(\"Create podcast\", \"Write report\")\n",
        "builder.add_edge(\"Create podcast\", \"Write introduction\")\n",
        "builder.add_edge(\"Create podcast\", \"Write conclusion\")\n",
        "builder.add_edge([\"Write introduction\", \"Write report\", \"Write conclusion\"], \"Finalize podcast\")\n",
        "builder.add_edge(\"Finalize podcast\", END)\n",
        "\n",
        "# Compile\n",
        "memory = MemorySaver()\n",
        "main_graph = builder.compile(checkpointer=memory)\n",
        "display(Image(main_graph.get_graph(xray=1).draw_mermaid_png()))\n",
        ""
      ],
      "metadata": {
        "colab": {
          "base_uri": "https://localhost:8080/",
          "height": 1000
        },
        "id": "d5x1-3hW1QHw",
        "outputId": "57d2f312-b9b0-4143-bd20-5c6dd0fd2a6c"
      },
      "execution_count": 104,
      "outputs": [
        {
          "output_type": "display_data",
          "data": {
            "image/png": "[encoded data removed]",
            "text/plain": [
              "<IPython.core.display.Image object>"
            ]
          },
          "metadata": {}
        }
      ]
    },
    {
      "cell_type": "code",
      "source": [
        "\n",
        "# Inputs\n",
        "topic = \"What is Attention in human cognition\"\n",
        "\n",
        "input_g = {\"topic\":topic}\n",
        "thread = {\"configurable\": {\"thread_id\": \"1\"}}"
      ],
      "metadata": {
        "id": "i0NR-1b21T-e"
      },
      "execution_count": 105,
      "outputs": []
    },
    {
      "cell_type": "code",
      "source": [
        "final_state = main_graph.get_state(thread)\n",
        "report = final_state.values.get('final_report')\n",
        "display(Markdown(report))"
      ],
      "metadata": {
        "colab": {
          "base_uri": "https://localhost:8080/",
          "height": 35
        },
        "id": "szrV7k5g1ZdO",
        "outputId": "80ac7f73-b090-4d57-adca-4ae318de8145"
      },
      "execution_count": 108,
      "outputs": [
        {
          "output_type": "display_data",
          "data": {
            "text/plain": [
              "<IPython.core.display.Markdown object>"
            ]
          },
          "metadata": {}
        }
      ]
    },
    {
      "cell_type": "code",
      "source": [
        "final_state.values.get('subtopics')"
      ],
      "metadata": {
        "id": "egVAS5-_1jR3"
      },
      "execution_count": 109,
      "outputs": []
    },
    {
      "cell_type": "code",
      "source": [],
      "metadata": {
        "id": "rpFxESBl1qpA"
      },
      "execution_count": null,
      "outputs": []
    }
  ]
}